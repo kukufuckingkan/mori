{
 "cells": [
  {
   "cell_type": "markdown",
   "id": "b74bda2b-65ef-4135-959e-0ace72793fd6",
   "metadata": {},
   "source": [
    "# Homage"
   ]
  },
  {
   "cell_type": "markdown",
   "id": "80c26bff-f558-4e9a-8d69-99afeeac9342",
   "metadata": {},
   "source": []
  },
  {
   "cell_type": "code",
   "execution_count": null,
   "id": "c0dc9655-6edc-42a9-b84d-68f5a8d43d34",
   "metadata": {},
   "outputs": [],
   "source": []
  }
 ],
 "metadata": {
  "kernelspec": {
   "display_name": "Python 3 (ipykernel)",
   "language": "python",
   "name": "python3"
  },
  "language_info": {
   "codemirror_mode": {
    "name": "ipython",
    "version": 3
   },
   "file_extension": ".py",
   "mimetype": "text/x-python",
   "name": "python",
   "nbconvert_exporter": "python",
   "pygments_lexer": "ipython3",
   "version": "3.12.4"
  }
 },
 "nbformat": 4,
 "nbformat_minor": 5
}
