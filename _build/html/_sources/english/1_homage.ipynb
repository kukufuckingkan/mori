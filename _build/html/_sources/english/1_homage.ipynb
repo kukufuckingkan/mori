{
 "cells": [
  {
   "cell_type": "markdown",
   "id": "b74bda2b-65ef-4135-959e-0ace72793fd6",
   "metadata": {},
   "source": [
    "# Homage"
   ]
  },
  {
   "cell_type": "markdown",
   "id": "80c26bff-f558-4e9a-8d69-99afeeac9342",
   "metadata": {},
   "source": [
    "<!-- _templates/custom_search_box.html -->\n",
    "<div>\n",
    "    <input type=\"text\" id=\"search-box\" placeholder=\"Type your query here...\" />\n",
    "    <button id=\"search-button\">Search</button>\n",
    "    <div id=\"results\"></div>\n",
    "</div>\n",
    "\n",
    "<script>\n",
    "    document.getElementById('search-button').onclick = function () {\n",
    "        const query = document.getElementById('search-box').value;\n",
    "\n",
    "        fetch(`http://0.0.0.0:8080/word`)\n",
    "            .then(response => response.json())\n",
    "            .then(data => {\n",
    "                // Get the results div and clear it for fresh results\n",
    "                const resultsDiv = document.getElementById('results');\n",
    "                resultsDiv.innerHTML = '';\n",
    "\n",
    "                // Check if data is not null or empty\n",
    "                if (data && data.length > 0) {\n",
    "                    // Create a table to display the results\n",
    "                    const table = document.createElement('table');\n",
    "                    table.style.width = '100%';\n",
    "                    table.border = '1';\n",
    "\n",
    "                    // Create a header row\n",
    "                    const headerRow = document.createElement('tr');\n",
    "                    const headers = ['Index', 'ID', 'Text', 'Meaning', 'Voice', 'Root ID', 'Type', 'Version', 'Examples'];\n",
    "                    headers.forEach(header => {\n",
    "                        const th = document.createElement('th');\n",
    "                        th.innerText = header;\n",
    "                        th.style.padding = '8px';\n",
    "                        th.style.backgroundColor = '#f2f2f2';\n",
    "                        headerRow.appendChild(th);\n",
    "                    });\n",
    "                    table.appendChild(headerRow);\n",
    "\n",
    "                    // Loop through each element in the data array and create a row\n",
    "                    data.forEach(element => {\n",
    "                        const row = document.createElement('tr');\n",
    "                        const properties = ['index', 'id', 'text', 'meaning', 'voice', 'root_id', 'type', 'version', 'examples'];\n",
    "                        properties.forEach(prop => {\n",
    "                            const cell = document.createElement('td');\n",
    "                            cell.innerText = element[prop] !== null ? element[prop] : 'null';\n",
    "                            cell.style.padding = '8px';\n",
    "                            row.appendChild(cell);\n",
    "                        });\n",
    "                        table.appendChild(row);\n",
    "                    });\n",
    "\n",
    "                    // Append the table to the results div\n",
    "                    resultsDiv.appendChild(table);\n",
    "                } else {\n",
    "                    // Show a no-results message if the data is empty or null\n",
    "                    const noResultsMessage = document.createElement('p');\n",
    "                    noResultsMessage.innerText = 'No results found. Please try a different search.';\n",
    "                    resultsDiv.appendChild(noResultsMessage);\n",
    "                }\n",
    "            })\n",
    "            .catch(error => console.error('Error fetching data:', error));\n",
    "    };\n",
    "</script>"
   ]
  },
  {
   "cell_type": "code",
   "execution_count": null,
   "id": "c0dc9655-6edc-42a9-b84d-68f5a8d43d34",
   "metadata": {},
   "outputs": [],
   "source": []
  }
 ],
 "metadata": {
  "kernelspec": {
   "display_name": "Python 3 (ipykernel)",
   "language": "python",
   "name": "python3"
  },
  "language_info": {
   "codemirror_mode": {
    "name": "ipython",
    "version": 3
   },
   "file_extension": ".py",
   "mimetype": "text/x-python",
   "name": "python",
   "nbconvert_exporter": "python",
   "pygments_lexer": "ipython3",
   "version": "3.12.4"
  }
 },
 "nbformat": 4,
 "nbformat_minor": 5
}
