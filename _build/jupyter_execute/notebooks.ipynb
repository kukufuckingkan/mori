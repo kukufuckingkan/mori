{
 "cells": [
  {
   "cell_type": "markdown",
   "metadata": {},
   "source": [
    "<!-- _templates/custom_search_box.html -->\n",
    "<div>\n",
    "    <input type=\"text\" id=\"search-box\" placeholder=\"Type your query here...\">\n",
    "    <button id=\"search-button\">Search</button>\n",
    "    <div id=\"results\"></div>\n",
    "</div>\n",
    "\n",
    "<script>\n",
    "    document.getElementById('search-button').onclick = function() {\n",
    "        const query = document.getElementById('search-box').value;\n",
    "        fetch(`http://0.0.0.0:8080/word`)\n",
    "            .then(response => response.json())\n",
    "            .then(data => {\n",
    "                console.log(data)\n",
    "                const resultsDiv = document.getElementById('results');\n",
    "                resultsDiv.innerHTML = '';\n",
    "                data.results.forEach(result => {\n",
    "                    const resultElement = document.createElement('div');\n",
    "                    resultElement.innerText = result; // Customize based on your API response\n",
    "                    resultsDiv.appendChild(resultElement);\n",
    "                });\n",
    "            })\n",
    "            .catch(error => console.error('Error fetching data:', error));\n",
    "    };\n",
    "</script>"
   ]
  }
 ],
 "metadata": {
  "kernelspec": {
   "display_name": "Python 3 (ipykernel)",
   "language": "python",
   "name": "python3"
  },
  "language_info": {
   "codemirror_mode": {
    "name": "ipython",
    "version": 3
   },
   "file_extension": ".py",
   "mimetype": "text/x-python",
   "name": "python",
   "nbconvert_exporter": "python",
   "pygments_lexer": "ipython3",
   "version": "3.12.4"
  },
  "widgets": {
   "application/vnd.jupyter.widget-state+json": {
    "state": {},
    "version_major": 2,
    "version_minor": 0
   }
  }
 },
 "nbformat": 4,
 "nbformat_minor": 4
}